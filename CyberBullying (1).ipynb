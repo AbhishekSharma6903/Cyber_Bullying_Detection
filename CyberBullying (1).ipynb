{
  "cells": [
    {
      "cell_type": "markdown",
      "metadata": {
        "id": "Y-LYKvpwxpf3"
      },
      "source": [
        "ML Project\n",
        "\n",
        "\n",
        "*   Abhishek Sharma\n",
        "*   Aditya Vatsa\n",
        "*   Amrith J Ajith\n",
        "\n",
        "\n",
        "\n"
      ]
    },
    {
      "cell_type": "markdown",
      "metadata": {
        "id": "OD9-Nr9SI48Z"
      },
      "source": [
        "# Importing"
      ]
    },
    {
      "cell_type": "code",
      "execution_count": null,
      "metadata": {
        "id": "wAClNxeWBP5z"
      },
      "outputs": [],
      "source": [
        "import numpy as np\n",
        "import pandas as pd\n",
        "import matplotlib.pyplot as plt\n",
        "\n",
        "from sklearn.feature_extraction.text import TfidfTransformer, CountVectorizer, TfidfVectorizer\n",
        "from sklearn.metrics import confusion_matrix\n",
        "from sklearn.model_selection import train_test_split\n",
        "\n",
        "from nltk.stem.porter import PorterStemmer\n",
        "import nltk\n",
        "import re, string\n",
        "from nltk.corpus import stopwords\n",
        "\n",
        "from sklearn.linear_model import LogisticRegression\n",
        "from sklearn.ensemble import RandomForestClassifier, AdaBoostClassifier\n",
        "from sklearn.linear_model import LogisticRegression\n",
        "from sklearn.svm import LinearSVC\n",
        "from sklearn.model_selection import train_test_split\n",
        "from sklearn.naive_bayes import GaussianNB\n",
        "from sklearn.tree import DecisionTreeClassifier\n",
        "\n",
        "from sklearn.model_selection import cross_val_score\n",
        "\n",
        "from sklearn.metrics import confusion_matrix\n",
        "from sklearn.metrics import accuracy_score\n",
        "from sklearn.metrics import precision_recall_curve\n",
        "from sklearn.metrics import precision_recall_curve\n",
        "import matplotlib.pyplot as plt\n",
        "from sklearn.metrics import roc_auc_score\n",
        "from sklearn.metrics import roc_curve\n",
        "from sklearn.metrics import classification_report\n",
        "from sklearn.metrics import PrecisionRecallDisplay\n",
        "from sklearn.ensemble import RandomForestClassifier\n",
        "from sklearn import metrics"
      ]
    },
    {
      "cell_type": "markdown",
      "metadata": {
        "id": "dSbaTauxLKzh"
      },
      "source": [
        "# Loading Data"
      ]
    },
    {
      "cell_type": "code",
      "execution_count": null,
      "metadata": {
        "id": "576KVyOxAgSO",
        "colab": {
          "base_uri": "https://localhost:8080/"
        },
        "outputId": "5dfd4851-9eb7-40f8-c2c3-76d3f0462916"
      },
      "outputs": [
        {
          "output_type": "execute_result",
          "data": {
            "text/plain": [
              "<bound method NDFrame.head of                                                  content  \\\n",
              "0                                 Get fucking real dude.   \n",
              "1       She is as dirty as they come  and that crook ...   \n",
              "2       why did you fuck it up. I could do it all day...   \n",
              "3       Dude they dont finish enclosing the fucking s...   \n",
              "4       WTF are you talking about Men? No men thats n...   \n",
              "...                                                  ...   \n",
              "19996    I dont. But what is complaining about it goi...   \n",
              "19997   Bahah  yeah i&;m totally just gonna&; get pis...   \n",
              "19998       hahahahaha >:) im evil mwahahahahahahahahaha   \n",
              "19999            What&;s something unique about Ohio? :)   \n",
              "20000              Who is the biggest gossiper you know?   \n",
              "\n",
              "                          annotation  extras  \n",
              "0      {'notes': '', 'label': ['1']}     NaN  \n",
              "1      {'notes': '', 'label': ['1']}     NaN  \n",
              "2      {'notes': '', 'label': ['1']}     NaN  \n",
              "3      {'notes': '', 'label': ['1']}     NaN  \n",
              "4      {'notes': '', 'label': ['1']}     NaN  \n",
              "...                              ...     ...  \n",
              "19996  {'notes': '', 'label': ['0']}     NaN  \n",
              "19997  {'notes': '', 'label': ['0']}     NaN  \n",
              "19998  {'notes': '', 'label': ['0']}     NaN  \n",
              "19999  {'notes': '', 'label': ['0']}     NaN  \n",
              "20000  {'notes': '', 'label': ['0']}     NaN  \n",
              "\n",
              "[20001 rows x 3 columns]>"
            ]
          },
          "metadata": {},
          "execution_count": 3
        }
      ],
      "source": [
        "url = 'https://drive.google.com/uc?export=download&id=12fBlhsa5GIdtme1jT3KlPPIgIdjzqhv1'\n",
        "df = pd.read_json(url, lines= True,orient='columns')\n",
        "df.head"
      ]
    },
    {
      "cell_type": "code",
      "execution_count": null,
      "metadata": {
        "id": "WG0QYg2oBu5V",
        "colab": {
          "base_uri": "https://localhost:8080/"
        },
        "outputId": "843e7679-628a-4c10-9a5b-39a7abc03ea5"
      },
      "outputs": [
        {
          "output_type": "stream",
          "name": "stderr",
          "text": [
            "<ipython-input-4-63a5844c426a>:3: SettingWithCopyWarning: \n",
            "A value is trying to be set on a copy of a slice from a DataFrame\n",
            "\n",
            "See the caveats in the documentation: https://pandas.pydata.org/pandas-docs/stable/user_guide/indexing.html#returning-a-view-versus-a-copy\n",
            "  df.annotation[i] = 1\n",
            "<ipython-input-4-63a5844c426a>:5: SettingWithCopyWarning: \n",
            "A value is trying to be set on a copy of a slice from a DataFrame\n",
            "\n",
            "See the caveats in the documentation: https://pandas.pydata.org/pandas-docs/stable/user_guide/indexing.html#returning-a-view-versus-a-copy\n",
            "  df.annotation[i] = 0\n"
          ]
        }
      ],
      "source": [
        "for i in range(0,len(df)):\n",
        "    if df.annotation[i]['label'][0] == '1':\n",
        "        df.annotation[i] = 1\n",
        "    else:\n",
        "        df.annotation[i] = 0"
      ]
    },
    {
      "cell_type": "code",
      "execution_count": null,
      "metadata": {
        "id": "zY5rDAE_JfP3",
        "colab": {
          "base_uri": "https://localhost:8080/",
          "height": 423
        },
        "outputId": "699aa956-83cd-4fca-be91-09fbfe76f5e7"
      },
      "outputs": [
        {
          "output_type": "execute_result",
          "data": {
            "text/plain": [
              "                                                 content annotation\n",
              "0                                 Get fucking real dude.          1\n",
              "1       She is as dirty as they come  and that crook ...          1\n",
              "2       why did you fuck it up. I could do it all day...          1\n",
              "3       Dude they dont finish enclosing the fucking s...          1\n",
              "4       WTF are you talking about Men? No men thats n...          1\n",
              "...                                                  ...        ...\n",
              "19996    I dont. But what is complaining about it goi...          0\n",
              "19997   Bahah  yeah i&;m totally just gonna&; get pis...          0\n",
              "19998       hahahahaha >:) im evil mwahahahahahahahahaha          0\n",
              "19999            What&;s something unique about Ohio? :)          0\n",
              "20000              Who is the biggest gossiper you know?          0\n",
              "\n",
              "[20001 rows x 2 columns]"
            ],
            "text/html": [
              "\n",
              "  <div id=\"df-aa434c9c-1873-48d8-bf68-3d2629f6a9b7\">\n",
              "    <div class=\"colab-df-container\">\n",
              "      <div>\n",
              "<style scoped>\n",
              "    .dataframe tbody tr th:only-of-type {\n",
              "        vertical-align: middle;\n",
              "    }\n",
              "\n",
              "    .dataframe tbody tr th {\n",
              "        vertical-align: top;\n",
              "    }\n",
              "\n",
              "    .dataframe thead th {\n",
              "        text-align: right;\n",
              "    }\n",
              "</style>\n",
              "<table border=\"1\" class=\"dataframe\">\n",
              "  <thead>\n",
              "    <tr style=\"text-align: right;\">\n",
              "      <th></th>\n",
              "      <th>content</th>\n",
              "      <th>annotation</th>\n",
              "    </tr>\n",
              "  </thead>\n",
              "  <tbody>\n",
              "    <tr>\n",
              "      <th>0</th>\n",
              "      <td>Get fucking real dude.</td>\n",
              "      <td>1</td>\n",
              "    </tr>\n",
              "    <tr>\n",
              "      <th>1</th>\n",
              "      <td>She is as dirty as they come  and that crook ...</td>\n",
              "      <td>1</td>\n",
              "    </tr>\n",
              "    <tr>\n",
              "      <th>2</th>\n",
              "      <td>why did you fuck it up. I could do it all day...</td>\n",
              "      <td>1</td>\n",
              "    </tr>\n",
              "    <tr>\n",
              "      <th>3</th>\n",
              "      <td>Dude they dont finish enclosing the fucking s...</td>\n",
              "      <td>1</td>\n",
              "    </tr>\n",
              "    <tr>\n",
              "      <th>4</th>\n",
              "      <td>WTF are you talking about Men? No men thats n...</td>\n",
              "      <td>1</td>\n",
              "    </tr>\n",
              "    <tr>\n",
              "      <th>...</th>\n",
              "      <td>...</td>\n",
              "      <td>...</td>\n",
              "    </tr>\n",
              "    <tr>\n",
              "      <th>19996</th>\n",
              "      <td>I dont. But what is complaining about it goi...</td>\n",
              "      <td>0</td>\n",
              "    </tr>\n",
              "    <tr>\n",
              "      <th>19997</th>\n",
              "      <td>Bahah  yeah i&amp;;m totally just gonna&amp;; get pis...</td>\n",
              "      <td>0</td>\n",
              "    </tr>\n",
              "    <tr>\n",
              "      <th>19998</th>\n",
              "      <td>hahahahaha &gt;:) im evil mwahahahahahahahahaha</td>\n",
              "      <td>0</td>\n",
              "    </tr>\n",
              "    <tr>\n",
              "      <th>19999</th>\n",
              "      <td>What&amp;;s something unique about Ohio? :)</td>\n",
              "      <td>0</td>\n",
              "    </tr>\n",
              "    <tr>\n",
              "      <th>20000</th>\n",
              "      <td>Who is the biggest gossiper you know?</td>\n",
              "      <td>0</td>\n",
              "    </tr>\n",
              "  </tbody>\n",
              "</table>\n",
              "<p>20001 rows × 2 columns</p>\n",
              "</div>\n",
              "      <button class=\"colab-df-convert\" onclick=\"convertToInteractive('df-aa434c9c-1873-48d8-bf68-3d2629f6a9b7')\"\n",
              "              title=\"Convert this dataframe to an interactive table.\"\n",
              "              style=\"display:none;\">\n",
              "        \n",
              "  <svg xmlns=\"http://www.w3.org/2000/svg\" height=\"24px\"viewBox=\"0 0 24 24\"\n",
              "       width=\"24px\">\n",
              "    <path d=\"M0 0h24v24H0V0z\" fill=\"none\"/>\n",
              "    <path d=\"M18.56 5.44l.94 2.06.94-2.06 2.06-.94-2.06-.94-.94-2.06-.94 2.06-2.06.94zm-11 1L8.5 8.5l.94-2.06 2.06-.94-2.06-.94L8.5 2.5l-.94 2.06-2.06.94zm10 10l.94 2.06.94-2.06 2.06-.94-2.06-.94-.94-2.06-.94 2.06-2.06.94z\"/><path d=\"M17.41 7.96l-1.37-1.37c-.4-.4-.92-.59-1.43-.59-.52 0-1.04.2-1.43.59L10.3 9.45l-7.72 7.72c-.78.78-.78 2.05 0 2.83L4 21.41c.39.39.9.59 1.41.59.51 0 1.02-.2 1.41-.59l7.78-7.78 2.81-2.81c.8-.78.8-2.07 0-2.86zM5.41 20L4 18.59l7.72-7.72 1.47 1.35L5.41 20z\"/>\n",
              "  </svg>\n",
              "      </button>\n",
              "      \n",
              "  <style>\n",
              "    .colab-df-container {\n",
              "      display:flex;\n",
              "      flex-wrap:wrap;\n",
              "      gap: 12px;\n",
              "    }\n",
              "\n",
              "    .colab-df-convert {\n",
              "      background-color: #E8F0FE;\n",
              "      border: none;\n",
              "      border-radius: 50%;\n",
              "      cursor: pointer;\n",
              "      display: none;\n",
              "      fill: #1967D2;\n",
              "      height: 32px;\n",
              "      padding: 0 0 0 0;\n",
              "      width: 32px;\n",
              "    }\n",
              "\n",
              "    .colab-df-convert:hover {\n",
              "      background-color: #E2EBFA;\n",
              "      box-shadow: 0px 1px 2px rgba(60, 64, 67, 0.3), 0px 1px 3px 1px rgba(60, 64, 67, 0.15);\n",
              "      fill: #174EA6;\n",
              "    }\n",
              "\n",
              "    [theme=dark] .colab-df-convert {\n",
              "      background-color: #3B4455;\n",
              "      fill: #D2E3FC;\n",
              "    }\n",
              "\n",
              "    [theme=dark] .colab-df-convert:hover {\n",
              "      background-color: #434B5C;\n",
              "      box-shadow: 0px 1px 3px 1px rgba(0, 0, 0, 0.15);\n",
              "      filter: drop-shadow(0px 1px 2px rgba(0, 0, 0, 0.3));\n",
              "      fill: #FFFFFF;\n",
              "    }\n",
              "  </style>\n",
              "\n",
              "      <script>\n",
              "        const buttonEl =\n",
              "          document.querySelector('#df-aa434c9c-1873-48d8-bf68-3d2629f6a9b7 button.colab-df-convert');\n",
              "        buttonEl.style.display =\n",
              "          google.colab.kernel.accessAllowed ? 'block' : 'none';\n",
              "\n",
              "        async function convertToInteractive(key) {\n",
              "          const element = document.querySelector('#df-aa434c9c-1873-48d8-bf68-3d2629f6a9b7');\n",
              "          const dataTable =\n",
              "            await google.colab.kernel.invokeFunction('convertToInteractive',\n",
              "                                                     [key], {});\n",
              "          if (!dataTable) return;\n",
              "\n",
              "          const docLinkHtml = 'Like what you see? Visit the ' +\n",
              "            '<a target=\"_blank\" href=https://colab.research.google.com/notebooks/data_table.ipynb>data table notebook</a>'\n",
              "            + ' to learn more about interactive tables.';\n",
              "          element.innerHTML = '';\n",
              "          dataTable['output_type'] = 'display_data';\n",
              "          await google.colab.output.renderOutput(dataTable, element);\n",
              "          const docLink = document.createElement('div');\n",
              "          docLink.innerHTML = docLinkHtml;\n",
              "          element.appendChild(docLink);\n",
              "        }\n",
              "      </script>\n",
              "    </div>\n",
              "  </div>\n",
              "  "
            ]
          },
          "metadata": {},
          "execution_count": 5
        }
      ],
      "source": [
        "df.drop(['extras'],axis = 1,inplace = True)\n",
        "df"
      ]
    },
    {
      "cell_type": "code",
      "execution_count": null,
      "metadata": {
        "id": "e2Z-9RpGJkuO",
        "colab": {
          "base_uri": "https://localhost:8080/"
        },
        "outputId": "c3c6d9d1-ebf1-4100-d993-4c402e7f1673"
      },
      "outputs": [
        {
          "output_type": "execute_result",
          "data": {
            "text/plain": [
              "(20001, 2)"
            ]
          },
          "metadata": {},
          "execution_count": 6
        }
      ],
      "source": [
        "df.shape "
      ]
    },
    {
      "cell_type": "markdown",
      "metadata": {
        "id": "XcnWwdqTMYmW"
      },
      "source": [
        "# Visualization"
      ]
    },
    {
      "cell_type": "code",
      "execution_count": null,
      "metadata": {
        "id": "UwXnu0sQMbQW",
        "colab": {
          "base_uri": "https://localhost:8080/",
          "height": 442
        },
        "outputId": "e8589526-26d0-4234-a7cc-5a52d801227f"
      },
      "outputs": [
        {
          "output_type": "execute_result",
          "data": {
            "text/plain": [
              "<Axes: >"
            ]
          },
          "metadata": {},
          "execution_count": 7
        },
        {
          "output_type": "display_data",
          "data": {
            "text/plain": [
              "<Figure size 640x480 with 1 Axes>"
            ],
            "image/png": "[encoded data removed]"
          },
          "metadata": {}
        }
      ],
      "source": [
        "df['annotation'].value_counts().sort_index().plot.bar()"
      ]
    },
    {
      "cell_type": "code",
      "execution_count": null,
      "metadata": {
        "id": "3FGX6jJmikrd",
        "colab": {
          "base_uri": "https://localhost:8080/"
        },
        "outputId": "b61aa0dc-13fc-4a02-9efd-732e39a0e403"
      },
      "outputs": [
        {
          "output_type": "stream",
          "name": "stdout",
          "text": [
            "PosiNon cyber trollingtive:  60.89195540222989 %\n",
            "Cybertrolling:  39.10804459777012 %\n"
          ]
        }
      ],
      "source": [
        "#Biasness\n",
        "print(\"PosiNon cyber trollingtive: \", df.annotation.value_counts()[0]/len(df.annotation)*100,\"%\")\n",
        "print(\"Cybertrolling: \", df.annotation.value_counts()[1]/len(df.annotation)*100,\"%\")"
      ]
    },
    {
      "cell_type": "markdown",
      "metadata": {
        "id": "RGBzITynLQg4"
      },
      "source": [
        "# Preprocessing"
      ]
    },
    {
      "cell_type": "code",
      "execution_count": null,
      "metadata": {
        "id": "Lp3xpJl3K4at",
        "colab": {
          "base_uri": "https://localhost:8080/",
          "height": 458
        },
        "outputId": "612c59d5-2456-4b93-fb3e-8f052a03bd8f"
      },
      "outputs": [
        {
          "output_type": "stream",
          "name": "stderr",
          "text": [
            "[nltk_data] Downloading package stopwords to /root/nltk_data...\n",
            "[nltk_data]   Unzipping corpora/stopwords.zip.\n"
          ]
        },
        {
          "output_type": "execute_result",
          "data": {
            "text/plain": [
              "      annotation                              content_without_puncs\n",
              "0              1                              Get fucking real dude\n",
              "1              1  She dirty come crook Rengel Dems fucking corru...\n",
              "2              1  fuck up I could day too Lets hour Ping later s...\n",
              "3              1  Dude dont finish enclosing fucking showers I h...\n",
              "4              1      WTF talking Men No men thats menage thats gay\n",
              "...          ...                                                ...\n",
              "19996          0                    I dont But complaining going do\n",
              "19997          0  Bahah yeah im totally gonna get pissed talking...\n",
              "19998          0          hahahahaha  im evil mwahahahahahahahahaha\n",
              "19999          0                       Whats something unique Ohio \n",
              "20000          0                          Who biggest gossiper know\n",
              "\n",
              "[20001 rows x 2 columns]"
            ],
            "text/html": [
              "\n",
              "  <div id=\"df-f1299664-6f2e-4b0a-a66b-6c752a040ab1\">\n",
              "    <div class=\"colab-df-container\">\n",
              "      <div>\n",
              "<style scoped>\n",
              "    .dataframe tbody tr th:only-of-type {\n",
              "        vertical-align: middle;\n",
              "    }\n",
              "\n",
              "    .dataframe tbody tr th {\n",
              "        vertical-align: top;\n",
              "    }\n",
              "\n",
              "    .dataframe thead th {\n",
              "        text-align: right;\n",
              "    }\n",
              "</style>\n",
              "<table border=\"1\" class=\"dataframe\">\n",
              "  <thead>\n",
              "    <tr style=\"text-align: right;\">\n",
              "      <th></th>\n",
              "      <th>annotation</th>\n",
              "      <th>content_without_puncs</th>\n",
              "    </tr>\n",
              "  </thead>\n",
              "  <tbody>\n",
              "    <tr>\n",
              "      <th>0</th>\n",
              "      <td>1</td>\n",
              "      <td>Get fucking real dude</td>\n",
              "    </tr>\n",
              "    <tr>\n",
              "      <th>1</th>\n",
              "      <td>1</td>\n",
              "      <td>She dirty come crook Rengel Dems fucking corru...</td>\n",
              "    </tr>\n",
              "    <tr>\n",
              "      <th>2</th>\n",
              "      <td>1</td>\n",
              "      <td>fuck up I could day too Lets hour Ping later s...</td>\n",
              "    </tr>\n",
              "    <tr>\n",
              "      <th>3</th>\n",
              "      <td>1</td>\n",
              "      <td>Dude dont finish enclosing fucking showers I h...</td>\n",
              "    </tr>\n",
              "    <tr>\n",
              "      <th>4</th>\n",
              "      <td>1</td>\n",
              "      <td>WTF talking Men No men thats menage thats gay</td>\n",
              "    </tr>\n",
              "    <tr>\n",
              "      <th>...</th>\n",
              "      <td>...</td>\n",
              "      <td>...</td>\n",
              "    </tr>\n",
              "    <tr>\n",
              "      <th>19996</th>\n",
              "      <td>0</td>\n",
              "      <td>I dont But complaining going do</td>\n",
              "    </tr>\n",
              "    <tr>\n",
              "      <th>19997</th>\n",
              "      <td>0</td>\n",
              "      <td>Bahah yeah im totally gonna get pissed talking...</td>\n",
              "    </tr>\n",
              "    <tr>\n",
              "      <th>19998</th>\n",
              "      <td>0</td>\n",
              "      <td>hahahahaha  im evil mwahahahahahahahahaha</td>\n",
              "    </tr>\n",
              "    <tr>\n",
              "      <th>19999</th>\n",
              "      <td>0</td>\n",
              "      <td>Whats something unique Ohio</td>\n",
              "    </tr>\n",
              "    <tr>\n",
              "      <th>20000</th>\n",
              "      <td>0</td>\n",
              "      <td>Who biggest gossiper know</td>\n",
              "    </tr>\n",
              "  </tbody>\n",
              "</table>\n",
              "<p>20001 rows × 2 columns</p>\n",
              "</div>\n",
              "      <button class=\"colab-df-convert\" onclick=\"convertToInteractive('df-f1299664-6f2e-4b0a-a66b-6c752a040ab1')\"\n",
              "              title=\"Convert this dataframe to an interactive table.\"\n",
              "              style=\"display:none;\">\n",
              "        \n",
              "  <svg xmlns=\"http://www.w3.org/2000/svg\" height=\"24px\"viewBox=\"0 0 24 24\"\n",
              "       width=\"24px\">\n",
              "    <path d=\"M0 0h24v24H0V0z\" fill=\"none\"/>\n",
              "    <path d=\"M18.56 5.44l.94 2.06.94-2.06 2.06-.94-2.06-.94-.94-2.06-.94 2.06-2.06.94zm-11 1L8.5 8.5l.94-2.06 2.06-.94-2.06-.94L8.5 2.5l-.94 2.06-2.06.94zm10 10l.94 2.06.94-2.06 2.06-.94-2.06-.94-.94-2.06-.94 2.06-2.06.94z\"/><path d=\"M17.41 7.96l-1.37-1.37c-.4-.4-.92-.59-1.43-.59-.52 0-1.04.2-1.43.59L10.3 9.45l-7.72 7.72c-.78.78-.78 2.05 0 2.83L4 21.41c.39.39.9.59 1.41.59.51 0 1.02-.2 1.41-.59l7.78-7.78 2.81-2.81c.8-.78.8-2.07 0-2.86zM5.41 20L4 18.59l7.72-7.72 1.47 1.35L5.41 20z\"/>\n",
              "  </svg>\n",
              "      </button>\n",
              "      \n",
              "  <style>\n",
              "    .colab-df-container {\n",
              "      display:flex;\n",
              "      flex-wrap:wrap;\n",
              "      gap: 12px;\n",
              "    }\n",
              "\n",
              "    .colab-df-convert {\n",
              "      background-color: #E8F0FE;\n",
              "      border: none;\n",
              "      border-radius: 50%;\n",
              "      cursor: pointer;\n",
              "      display: none;\n",
              "      fill: #1967D2;\n",
              "      height: 32px;\n",
              "      padding: 0 0 0 0;\n",
              "      width: 32px;\n",
              "    }\n",
              "\n",
              "    .colab-df-convert:hover {\n",
              "      background-color: #E2EBFA;\n",
              "      box-shadow: 0px 1px 2px rgba(60, 64, 67, 0.3), 0px 1px 3px 1px rgba(60, 64, 67, 0.15);\n",
              "      fill: #174EA6;\n",
              "    }\n",
              "\n",
              "    [theme=dark] .colab-df-convert {\n",
              "      background-color: #3B4455;\n",
              "      fill: #D2E3FC;\n",
              "    }\n",
              "\n",
              "    [theme=dark] .colab-df-convert:hover {\n",
              "      background-color: #434B5C;\n",
              "      box-shadow: 0px 1px 3px 1px rgba(0, 0, 0, 0.15);\n",
              "      filter: drop-shadow(0px 1px 2px rgba(0, 0, 0, 0.3));\n",
              "      fill: #FFFFFF;\n",
              "    }\n",
              "  </style>\n",
              "\n",
              "      <script>\n",
              "        const buttonEl =\n",
              "          document.querySelector('#df-f1299664-6f2e-4b0a-a66b-6c752a040ab1 button.colab-df-convert');\n",
              "        buttonEl.style.display =\n",
              "          google.colab.kernel.accessAllowed ? 'block' : 'none';\n",
              "\n",
              "        async function convertToInteractive(key) {\n",
              "          const element = document.querySelector('#df-f1299664-6f2e-4b0a-a66b-6c752a040ab1');\n",
              "          const dataTable =\n",
              "            await google.colab.kernel.invokeFunction('convertToInteractive',\n",
              "                                                     [key], {});\n",
              "          if (!dataTable) return;\n",
              "\n",
              "          const docLinkHtml = 'Like what you see? Visit the ' +\n",
              "            '<a target=\"_blank\" href=https://colab.research.google.com/notebooks/data_table.ipynb>data table notebook</a>'\n",
              "            + ' to learn more about interactive tables.';\n",
              "          element.innerHTML = '';\n",
              "          dataTable['output_type'] = 'display_data';\n",
              "          await google.colab.output.renderOutput(dataTable, element);\n",
              "          const docLink = document.createElement('div');\n",
              "          docLink.innerHTML = docLinkHtml;\n",
              "          element.appendChild(docLink);\n",
              "        }\n",
              "      </script>\n",
              "    </div>\n",
              "  </div>\n",
              "  "
            ]
          },
          "metadata": {},
          "execution_count": 9
        }
      ],
      "source": [
        "nltk.download('stopwords')\n",
        "stop = stopwords.words('english')\n",
        "\n",
        "regex = re.compile('[%s]' % re.escape(string.punctuation))\n",
        "\n",
        "def test_re(s):\n",
        "    return regex.sub('', s)\n",
        "\n",
        "df ['content_without_stopwords'] = df['content'].apply(lambda x: ' '.join([word for word in x.split() if word not in (stop)]))\n",
        "df ['content_without_puncs'] = df['content_without_stopwords'].apply(lambda x: regex.sub('',x))\n",
        "del df['content_without_stopwords']\n",
        "del df['content']\n",
        "df"
      ]
    },
    {
      "cell_type": "code",
      "execution_count": null,
      "metadata": {
        "id": "p0zjVqoqME5j",
        "colab": {
          "base_uri": "https://localhost:8080/",
          "height": 458
        },
        "outputId": "397e5aae-4b89-4ce9-fb46-0985f683f053"
      },
      "outputs": [
        {
          "output_type": "stream",
          "name": "stderr",
          "text": [
            "[nltk_data] Downloading package punkt to /root/nltk_data...\n",
            "[nltk_data]   Unzipping tokenizers/punkt.zip.\n"
          ]
        },
        {
          "output_type": "execute_result",
          "data": {
            "text/plain": [
              "      annotation                                   content_tokenize\n",
              "0              1                                 get fuck real dude\n",
              "1              1   she dirti come crook rengel dem fuck corrupt ...\n",
              "2              1   fuck up i could day too let hour ping later s...\n",
              "3              1   dude dont finish enclos fuck shower i hate ha...\n",
              "4              1            wtf talk men no men that menag that gay\n",
              "...          ...                                                ...\n",
              "19996          0                          i dont but complain go do\n",
              "19997          0   bahah yeah im total gon na get piss talk you ...\n",
              "19998          0           hahahahaha im evil mwahahahahahahahahaha\n",
              "19999          0                             what someth uniqu ohio\n",
              "20000          0                            who biggest gossip know\n",
              "\n",
              "[20001 rows x 2 columns]"
            ],
            "text/html": [
              "\n",
              "  <div id=\"df-18148bed-7b3c-41a7-983e-41ba0d1e1b5f\">\n",
              "    <div class=\"colab-df-container\">\n",
              "      <div>\n",
              "<style scoped>\n",
              "    .dataframe tbody tr th:only-of-type {\n",
              "        vertical-align: middle;\n",
              "    }\n",
              "\n",
              "    .dataframe tbody tr th {\n",
              "        vertical-align: top;\n",
              "    }\n",
              "\n",
              "    .dataframe thead th {\n",
              "        text-align: right;\n",
              "    }\n",
              "</style>\n",
              "<table border=\"1\" class=\"dataframe\">\n",
              "  <thead>\n",
              "    <tr style=\"text-align: right;\">\n",
              "      <th></th>\n",
              "      <th>annotation</th>\n",
              "      <th>content_tokenize</th>\n",
              "    </tr>\n",
              "  </thead>\n",
              "  <tbody>\n",
              "    <tr>\n",
              "      <th>0</th>\n",
              "      <td>1</td>\n",
              "      <td>get fuck real dude</td>\n",
              "    </tr>\n",
              "    <tr>\n",
              "      <th>1</th>\n",
              "      <td>1</td>\n",
              "      <td>she dirti come crook rengel dem fuck corrupt ...</td>\n",
              "    </tr>\n",
              "    <tr>\n",
              "      <th>2</th>\n",
              "      <td>1</td>\n",
              "      <td>fuck up i could day too let hour ping later s...</td>\n",
              "    </tr>\n",
              "    <tr>\n",
              "      <th>3</th>\n",
              "      <td>1</td>\n",
              "      <td>dude dont finish enclos fuck shower i hate ha...</td>\n",
              "    </tr>\n",
              "    <tr>\n",
              "      <th>4</th>\n",
              "      <td>1</td>\n",
              "      <td>wtf talk men no men that menag that gay</td>\n",
              "    </tr>\n",
              "    <tr>\n",
              "      <th>...</th>\n",
              "      <td>...</td>\n",
              "      <td>...</td>\n",
              "    </tr>\n",
              "    <tr>\n",
              "      <th>19996</th>\n",
              "      <td>0</td>\n",
              "      <td>i dont but complain go do</td>\n",
              "    </tr>\n",
              "    <tr>\n",
              "      <th>19997</th>\n",
              "      <td>0</td>\n",
              "      <td>bahah yeah im total gon na get piss talk you ...</td>\n",
              "    </tr>\n",
              "    <tr>\n",
              "      <th>19998</th>\n",
              "      <td>0</td>\n",
              "      <td>hahahahaha im evil mwahahahahahahahahaha</td>\n",
              "    </tr>\n",
              "    <tr>\n",
              "      <th>19999</th>\n",
              "      <td>0</td>\n",
              "      <td>what someth uniqu ohio</td>\n",
              "    </tr>\n",
              "    <tr>\n",
              "      <th>20000</th>\n",
              "      <td>0</td>\n",
              "      <td>who biggest gossip know</td>\n",
              "    </tr>\n",
              "  </tbody>\n",
              "</table>\n",
              "<p>20001 rows × 2 columns</p>\n",
              "</div>\n",
              "      <button class=\"colab-df-convert\" onclick=\"convertToInteractive('df-18148bed-7b3c-41a7-983e-41ba0d1e1b5f')\"\n",
              "              title=\"Convert this dataframe to an interactive table.\"\n",
              "              style=\"display:none;\">\n",
              "        \n",
              "  <svg xmlns=\"http://www.w3.org/2000/svg\" height=\"24px\"viewBox=\"0 0 24 24\"\n",
              "       width=\"24px\">\n",
              "    <path d=\"M0 0h24v24H0V0z\" fill=\"none\"/>\n",
              "    <path d=\"M18.56 5.44l.94 2.06.94-2.06 2.06-.94-2.06-.94-.94-2.06-.94 2.06-2.06.94zm-11 1L8.5 8.5l.94-2.06 2.06-.94-2.06-.94L8.5 2.5l-.94 2.06-2.06.94zm10 10l.94 2.06.94-2.06 2.06-.94-2.06-.94-.94-2.06-.94 2.06-2.06.94z\"/><path d=\"M17.41 7.96l-1.37-1.37c-.4-.4-.92-.59-1.43-.59-.52 0-1.04.2-1.43.59L10.3 9.45l-7.72 7.72c-.78.78-.78 2.05 0 2.83L4 21.41c.39.39.9.59 1.41.59.51 0 1.02-.2 1.41-.59l7.78-7.78 2.81-2.81c.8-.78.8-2.07 0-2.86zM5.41 20L4 18.59l7.72-7.72 1.47 1.35L5.41 20z\"/>\n",
              "  </svg>\n",
              "      </button>\n",
              "      \n",
              "  <style>\n",
              "    .colab-df-container {\n",
              "      display:flex;\n",
              "      flex-wrap:wrap;\n",
              "      gap: 12px;\n",
              "    }\n",
              "\n",
              "    .colab-df-convert {\n",
              "      background-color: #E8F0FE;\n",
              "      border: none;\n",
              "      border-radius: 50%;\n",
              "      cursor: pointer;\n",
              "      display: none;\n",
              "      fill: #1967D2;\n",
              "      height: 32px;\n",
              "      padding: 0 0 0 0;\n",
              "      width: 32px;\n",
              "    }\n",
              "\n",
              "    .colab-df-convert:hover {\n",
              "      background-color: #E2EBFA;\n",
              "      box-shadow: 0px 1px 2px rgba(60, 64, 67, 0.3), 0px 1px 3px 1px rgba(60, 64, 67, 0.15);\n",
              "      fill: #174EA6;\n",
              "    }\n",
              "\n",
              "    [theme=dark] .colab-df-convert {\n",
              "      background-color: #3B4455;\n",
              "      fill: #D2E3FC;\n",
              "    }\n",
              "\n",
              "    [theme=dark] .colab-df-convert:hover {\n",
              "      background-color: #434B5C;\n",
              "      box-shadow: 0px 1px 3px 1px rgba(0, 0, 0, 0.15);\n",
              "      filter: drop-shadow(0px 1px 2px rgba(0, 0, 0, 0.3));\n",
              "      fill: #FFFFFF;\n",
              "    }\n",
              "  </style>\n",
              "\n",
              "      <script>\n",
              "        const buttonEl =\n",
              "          document.querySelector('#df-18148bed-7b3c-41a7-983e-41ba0d1e1b5f button.colab-df-convert');\n",
              "        buttonEl.style.display =\n",
              "          google.colab.kernel.accessAllowed ? 'block' : 'none';\n",
              "\n",
              "        async function convertToInteractive(key) {\n",
              "          const element = document.querySelector('#df-18148bed-7b3c-41a7-983e-41ba0d1e1b5f');\n",
              "          const dataTable =\n",
              "            await google.colab.kernel.invokeFunction('convertToInteractive',\n",
              "                                                     [key], {});\n",
              "          if (!dataTable) return;\n",
              "\n",
              "          const docLinkHtml = 'Like what you see? Visit the ' +\n",
              "            '<a target=\"_blank\" href=https://colab.research.google.com/notebooks/data_table.ipynb>data table notebook</a>'\n",
              "            + ' to learn more about interactive tables.';\n",
              "          element.innerHTML = '';\n",
              "          dataTable['output_type'] = 'display_data';\n",
              "          await google.colab.output.renderOutput(dataTable, element);\n",
              "          const docLink = document.createElement('div');\n",
              "          docLink.innerHTML = docLinkHtml;\n",
              "          element.appendChild(docLink);\n",
              "        }\n",
              "      </script>\n",
              "    </div>\n",
              "  </div>\n",
              "  "
            ]
          },
          "metadata": {},
          "execution_count": 10
        }
      ],
      "source": [
        "#Stemming\n",
        "porter_stemmer = PorterStemmer()\n",
        "#punctuations\n",
        "nltk.download('punkt')\n",
        "tok_list = []\n",
        "size = df.shape[0]\n",
        "\n",
        "for i in range(size):\n",
        "  word_data = df['content_without_puncs'][i]\n",
        "  nltk_tokens = nltk.word_tokenize(word_data)\n",
        "  final = ''\n",
        "  for w in nltk_tokens:\n",
        "    final = final + ' ' + porter_stemmer.stem(w)\n",
        "  tok_list.append(final)\n",
        "\n",
        "df['content_tokenize'] = tok_list\n",
        "del df['content_without_puncs']\n",
        "df"
      ]
    },
    {
      "cell_type": "code",
      "execution_count": null,
      "metadata": {
        "id": "aKzuLpipUbLb",
        "colab": {
          "base_uri": "https://localhost:8080/",
          "height": 423
        },
        "outputId": "bde7c210-7222-4a50-d6c7-3a2aeb5bb7ee"
      },
      "outputs": [
        {
          "output_type": "execute_result",
          "data": {
            "text/plain": [
              "      annotation                                   content_tokenize  \\\n",
              "0              1                                 get fuck real dude   \n",
              "1              1   she dirti come crook rengel dem fuck corrupt ...   \n",
              "2              1   fuck up i could day too let hour ping later s...   \n",
              "3              1   dude dont finish enclos fuck shower i hate ha...   \n",
              "4              1            wtf talk men no men that menag that gay   \n",
              "...          ...                                                ...   \n",
              "19996          0                          i dont but complain go do   \n",
              "19997          0   bahah yeah im total gon na get piss talk you ...   \n",
              "19998          0           hahahahaha im evil mwahahahahahahahahaha   \n",
              "19999          0                             what someth uniqu ohio   \n",
              "20000          0                            who biggest gossip know   \n",
              "\n",
              "                                                 content  \n",
              "0                                     get fuck real dude  \n",
              "1       she dirti come crook rengel dem fuck corrupt ...  \n",
              "2       fuck up i could day too let hour ping later s...  \n",
              "3       dude dont finish enclos fuck shower i hate ha...  \n",
              "4                wtf talk men no men that menag that gay  \n",
              "...                                                  ...  \n",
              "19996                          i dont but complain go do  \n",
              "19997   bahah yeah im total gon na get piss talk you ...  \n",
              "19998           hahahahaha im evil mwahahahahahahahahaha  \n",
              "19999                             what someth uniqu ohio  \n",
              "20000                            who biggest gossip know  \n",
              "\n",
              "[20001 rows x 3 columns]"
            ],
            "text/html": [
              "\n",
              "  <div id=\"df-3f32fcbf-36f7-48c5-8d99-4de9c6f2410b\">\n",
              "    <div class=\"colab-df-container\">\n",
              "      <div>\n",
              "<style scoped>\n",
              "    .dataframe tbody tr th:only-of-type {\n",
              "        vertical-align: middle;\n",
              "    }\n",
              "\n",
              "    .dataframe tbody tr th {\n",
              "        vertical-align: top;\n",
              "    }\n",
              "\n",
              "    .dataframe thead th {\n",
              "        text-align: right;\n",
              "    }\n",
              "</style>\n",
              "<table border=\"1\" class=\"dataframe\">\n",
              "  <thead>\n",
              "    <tr style=\"text-align: right;\">\n",
              "      <th></th>\n",
              "      <th>annotation</th>\n",
              "      <th>content_tokenize</th>\n",
              "      <th>content</th>\n",
              "    </tr>\n",
              "  </thead>\n",
              "  <tbody>\n",
              "    <tr>\n",
              "      <th>0</th>\n",
              "      <td>1</td>\n",
              "      <td>get fuck real dude</td>\n",
              "      <td>get fuck real dude</td>\n",
              "    </tr>\n",
              "    <tr>\n",
              "      <th>1</th>\n",
              "      <td>1</td>\n",
              "      <td>she dirti come crook rengel dem fuck corrupt ...</td>\n",
              "      <td>she dirti come crook rengel dem fuck corrupt ...</td>\n",
              "    </tr>\n",
              "    <tr>\n",
              "      <th>2</th>\n",
              "      <td>1</td>\n",
              "      <td>fuck up i could day too let hour ping later s...</td>\n",
              "      <td>fuck up i could day too let hour ping later s...</td>\n",
              "    </tr>\n",
              "    <tr>\n",
              "      <th>3</th>\n",
              "      <td>1</td>\n",
              "      <td>dude dont finish enclos fuck shower i hate ha...</td>\n",
              "      <td>dude dont finish enclos fuck shower i hate ha...</td>\n",
              "    </tr>\n",
              "    <tr>\n",
              "      <th>4</th>\n",
              "      <td>1</td>\n",
              "      <td>wtf talk men no men that menag that gay</td>\n",
              "      <td>wtf talk men no men that menag that gay</td>\n",
              "    </tr>\n",
              "    <tr>\n",
              "      <th>...</th>\n",
              "      <td>...</td>\n",
              "      <td>...</td>\n",
              "      <td>...</td>\n",
              "    </tr>\n",
              "    <tr>\n",
              "      <th>19996</th>\n",
              "      <td>0</td>\n",
              "      <td>i dont but complain go do</td>\n",
              "      <td>i dont but complain go do</td>\n",
              "    </tr>\n",
              "    <tr>\n",
              "      <th>19997</th>\n",
              "      <td>0</td>\n",
              "      <td>bahah yeah im total gon na get piss talk you ...</td>\n",
              "      <td>bahah yeah im total gon na get piss talk you ...</td>\n",
              "    </tr>\n",
              "    <tr>\n",
              "      <th>19998</th>\n",
              "      <td>0</td>\n",
              "      <td>hahahahaha im evil mwahahahahahahahahaha</td>\n",
              "      <td>hahahahaha im evil mwahahahahahahahahaha</td>\n",
              "    </tr>\n",
              "    <tr>\n",
              "      <th>19999</th>\n",
              "      <td>0</td>\n",
              "      <td>what someth uniqu ohio</td>\n",
              "      <td>what someth uniqu ohio</td>\n",
              "    </tr>\n",
              "    <tr>\n",
              "      <th>20000</th>\n",
              "      <td>0</td>\n",
              "      <td>who biggest gossip know</td>\n",
              "      <td>who biggest gossip know</td>\n",
              "    </tr>\n",
              "  </tbody>\n",
              "</table>\n",
              "<p>20001 rows × 3 columns</p>\n",
              "</div>\n",
              "      <button class=\"colab-df-convert\" onclick=\"convertToInteractive('df-3f32fcbf-36f7-48c5-8d99-4de9c6f2410b')\"\n",
              "              title=\"Convert this dataframe to an interactive table.\"\n",
              "              style=\"display:none;\">\n",
              "        \n",
              "  <svg xmlns=\"http://www.w3.org/2000/svg\" height=\"24px\"viewBox=\"0 0 24 24\"\n",
              "       width=\"24px\">\n",
              "    <path d=\"M0 0h24v24H0V0z\" fill=\"none\"/>\n",
              "    <path d=\"M18.56 5.44l.94 2.06.94-2.06 2.06-.94-2.06-.94-.94-2.06-.94 2.06-2.06.94zm-11 1L8.5 8.5l.94-2.06 2.06-.94-2.06-.94L8.5 2.5l-.94 2.06-2.06.94zm10 10l.94 2.06.94-2.06 2.06-.94-2.06-.94-.94-2.06-.94 2.06-2.06.94z\"/><path d=\"M17.41 7.96l-1.37-1.37c-.4-.4-.92-.59-1.43-.59-.52 0-1.04.2-1.43.59L10.3 9.45l-7.72 7.72c-.78.78-.78 2.05 0 2.83L4 21.41c.39.39.9.59 1.41.59.51 0 1.02-.2 1.41-.59l7.78-7.78 2.81-2.81c.8-.78.8-2.07 0-2.86zM5.41 20L4 18.59l7.72-7.72 1.47 1.35L5.41 20z\"/>\n",
              "  </svg>\n",
              "      </button>\n",
              "      \n",
              "  <style>\n",
              "    .colab-df-container {\n",
              "      display:flex;\n",
              "      flex-wrap:wrap;\n",
              "      gap: 12px;\n",
              "    }\n",
              "\n",
              "    .colab-df-convert {\n",
              "      background-color: #E8F0FE;\n",
              "      border: none;\n",
              "      border-radius: 50%;\n",
              "      cursor: pointer;\n",
              "      display: none;\n",
              "      fill: #1967D2;\n",
              "      height: 32px;\n",
              "      padding: 0 0 0 0;\n",
              "      width: 32px;\n",
              "    }\n",
              "\n",
              "    .colab-df-convert:hover {\n",
              "      background-color: #E2EBFA;\n",
              "      box-shadow: 0px 1px 2px rgba(60, 64, 67, 0.3), 0px 1px 3px 1px rgba(60, 64, 67, 0.15);\n",
              "      fill: #174EA6;\n",
              "    }\n",
              "\n",
              "    [theme=dark] .colab-df-convert {\n",
              "      background-color: #3B4455;\n",
              "      fill: #D2E3FC;\n",
              "    }\n",
              "\n",
              "    [theme=dark] .colab-df-convert:hover {\n",
              "      background-color: #434B5C;\n",
              "      box-shadow: 0px 1px 3px 1px rgba(0, 0, 0, 0.15);\n",
              "      filter: drop-shadow(0px 1px 2px rgba(0, 0, 0, 0.3));\n",
              "      fill: #FFFFFF;\n",
              "    }\n",
              "  </style>\n",
              "\n",
              "      <script>\n",
              "        const buttonEl =\n",
              "          document.querySelector('#df-3f32fcbf-36f7-48c5-8d99-4de9c6f2410b button.colab-df-convert');\n",
              "        buttonEl.style.display =\n",
              "          google.colab.kernel.accessAllowed ? 'block' : 'none';\n",
              "\n",
              "        async function convertToInteractive(key) {\n",
              "          const element = document.querySelector('#df-3f32fcbf-36f7-48c5-8d99-4de9c6f2410b');\n",
              "          const dataTable =\n",
              "            await google.colab.kernel.invokeFunction('convertToInteractive',\n",
              "                                                     [key], {});\n",
              "          if (!dataTable) return;\n",
              "\n",
              "          const docLinkHtml = 'Like what you see? Visit the ' +\n",
              "            '<a target=\"_blank\" href=https://colab.research.google.com/notebooks/data_table.ipynb>data table notebook</a>'\n",
              "            + ' to learn more about interactive tables.';\n",
              "          element.innerHTML = '';\n",
              "          dataTable['output_type'] = 'display_data';\n",
              "          await google.colab.output.renderOutput(dataTable, element);\n",
              "          const docLink = document.createElement('div');\n",
              "          docLink.innerHTML = docLinkHtml;\n",
              "          element.appendChild(docLink);\n",
              "        }\n",
              "      </script>\n",
              "    </div>\n",
              "  </div>\n",
              "  "
            ]
          },
          "metadata": {},
          "execution_count": 11
        }
      ],
      "source": [
        "noNums = []\n",
        "for i in range(len(df)):\n",
        "  noNums.append(''.join([i for i in df['content_tokenize'][i] if not i.isdigit()]))\n",
        "\n",
        "df['content'] = noNums\n",
        "df"
      ]
    },
    {
      "cell_type": "code",
      "execution_count": null,
      "metadata": {
        "id": "Ft1hdwsMte03"
      },
      "outputs": [],
      "source": [
        "tfIdfVectorizer=TfidfVectorizer(use_idf=True, sublinear_tf=True)\n",
        "tfIdf = tfIdfVectorizer.fit_transform(df.content.tolist())"
      ]
    },
    {
      "cell_type": "code",
      "execution_count": null,
      "metadata": {
        "id": "iTtnFAZUwC4q",
        "colab": {
          "base_uri": "https://localhost:8080/"
        },
        "outputId": "0e0a34f0-f010-4568-ccd0-cbb7c1c9a0d8"
      },
      "outputs": [
        {
          "output_type": "stream",
          "name": "stdout",
          "text": [
            "         TF-IDF\n",
            "sched  0.413066\n",
            "ping   0.382982\n",
            "later  0.306131\n",
            "write  0.287619\n",
            "book   0.285848\n",
            "hour   0.281449\n",
            "here   0.262648\n",
            "let    0.241995\n",
            "up     0.237401\n",
            "could  0.223151\n"
          ]
        }
      ],
      "source": [
        "df2 = pd.DataFrame(tfIdf[2].T.todense(), index=tfIdfVectorizer.get_feature_names_out(), columns=[\"TF-IDF\"]) #for second entry only(just to check if working)\n",
        "df2 = df2.sort_values('TF-IDF', ascending=False)\n",
        "print (df2.head(10))"
      ]
    },
    {
      "cell_type": "code",
      "execution_count": null,
      "metadata": {
        "colab": {
          "base_uri": "https://localhost:8080/"
        },
        "id": "YmJnUKdTwfKB",
        "outputId": "c8fa48d3-76bd-4a27-8ebc-c14f7f899c5c"
      },
      "outputs": [
        {
          "output_type": "stream",
          "name": "stdout",
          "text": [
            "        aa  aaaaaaaaaa  aaaaaanndgummi  aaaagh  aaaawwwww  aaand  \\\n",
            "0      0.0         0.0             0.0     0.0        0.0    0.0   \n",
            "1      0.0         0.0             0.0     0.0        0.0    0.0   \n",
            "2      0.0         0.0             0.0     0.0        0.0    0.0   \n",
            "3      0.0         0.0             0.0     0.0        0.0    0.0   \n",
            "4      0.0         0.0             0.0     0.0        0.0    0.0   \n",
            "...    ...         ...             ...     ...        ...    ...   \n",
            "19996  0.0         0.0             0.0     0.0        0.0    0.0   \n",
            "19997  0.0         0.0             0.0     0.0        0.0    0.0   \n",
            "19998  0.0         0.0             0.0     0.0        0.0    0.0   \n",
            "19999  0.0         0.0             0.0     0.0        0.0    0.0   \n",
            "20000  0.0         0.0             0.0     0.0        0.0    0.0   \n",
            "\n",
            "       aaanyyywhoooooooo  aaargh  aaarrrg  aah  ...  zon  zone  zoo  zoom  \\\n",
            "0                    0.0     0.0      0.0  0.0  ...  0.0   0.0  0.0   0.0   \n",
            "1                    0.0     0.0      0.0  0.0  ...  0.0   0.0  0.0   0.0   \n",
            "2                    0.0     0.0      0.0  0.0  ...  0.0   0.0  0.0   0.0   \n",
            "3                    0.0     0.0      0.0  0.0  ...  0.0   0.0  0.0   0.0   \n",
            "4                    0.0     0.0      0.0  0.0  ...  0.0   0.0  0.0   0.0   \n",
            "...                  ...     ...      ...  ...  ...  ...   ...  ...   ...   \n",
            "19996                0.0     0.0      0.0  0.0  ...  0.0   0.0  0.0   0.0   \n",
            "19997                0.0     0.0      0.0  0.0  ...  0.0   0.0  0.0   0.0   \n",
            "19998                0.0     0.0      0.0  0.0  ...  0.0   0.0  0.0   0.0   \n",
            "19999                0.0     0.0      0.0  0.0  ...  0.0   0.0  0.0   0.0   \n",
            "20000                0.0     0.0      0.0  0.0  ...  0.0   0.0  0.0   0.0   \n",
            "\n",
            "       zro  zucker  zune  zzzz  zzzzzz  zzzzzzzz  \n",
            "0      0.0     0.0   0.0   0.0     0.0       0.0  \n",
            "1      0.0     0.0   0.0   0.0     0.0       0.0  \n",
            "2      0.0     0.0   0.0   0.0     0.0       0.0  \n",
            "3      0.0     0.0   0.0   0.0     0.0       0.0  \n",
            "4      0.0     0.0   0.0   0.0     0.0       0.0  \n",
            "...    ...     ...   ...   ...     ...       ...  \n",
            "19996  0.0     0.0   0.0   0.0     0.0       0.0  \n",
            "19997  0.0     0.0   0.0   0.0     0.0       0.0  \n",
            "19998  0.0     0.0   0.0   0.0     0.0       0.0  \n",
            "19999  0.0     0.0   0.0   0.0     0.0       0.0  \n",
            "20000  0.0     0.0   0.0   0.0     0.0       0.0  \n",
            "\n",
            "[20001 rows x 14783 columns]\n"
          ]
        }
      ],
      "source": [
        "dfx = pd.DataFrame(tfIdf.toarray(), columns = tfIdfVectorizer.get_feature_names_out())\n",
        "print(dfx)"
      ]
    },
    {
      "cell_type": "code",
      "execution_count": null,
      "metadata": {
        "id": "dPnN_5Zs5oRT"
      },
      "outputs": [],
      "source": [
        "def display_scores(vectorizer, tfidf_result):\n",
        "    scores = zip(vectorizer.get_feature_names_out(),\n",
        "                 np.asarray(tfidf_result.sum(axis=0)).ravel())\n",
        "    sorted_scores = sorted(scores, key=lambda x: x[1], reverse=True)\n",
        "    i=0\n",
        "    for item in sorted_scores:\n",
        "        print (\"{0:50} Score: {1}\".format(item[0], item[1]))\n",
        "        i = i+1\n",
        "        if (i > 25):\n",
        "          break"
      ]
    },
    {
      "cell_type": "code",
      "execution_count": null,
      "metadata": {
        "colab": {
          "base_uri": "https://localhost:8080/"
        },
        "id": "Fhclr5Bs54f5",
        "outputId": "cfa754f7-69b9-4801-c938-9cff49cbdd29"
      },
      "outputs": [
        {
          "output_type": "stream",
          "name": "stdout",
          "text": [
            "hate                                               Score: 533.8157298036014\n",
            "fuck                                               Score: 503.76150769255435\n",
            "damn                                               Score: 482.3875012051478\n",
            "suck                                               Score: 407.37790877127185\n",
            "ass                                                Score: 337.54089621427744\n",
            "that                                               Score: 311.6250930420745\n",
            "lol                                                Score: 298.0085779872157\n",
            "im                                                 Score: 296.0216055277791\n",
            "like                                               Score: 287.8183474868775\n",
            "you                                                Score: 284.7850587424088\n",
            "it                                                 Score: 254.75722294501585\n",
            "get                                                Score: 253.19747902607998\n",
            "what                                               Score: 221.43673623523864\n",
            "know                                               Score: 211.53595900888456\n",
            "would                                              Score: 202.5073882820925\n",
            "bitch                                              Score: 193.08800391463464\n",
            "ye                                                 Score: 182.22364463196365\n",
            "love                                               Score: 181.49014270754344\n",
            "go                                                 Score: 180.2588319545915\n",
            "haha                                               Score: 179.29466045019018\n",
            "think                                              Score: 178.9039058038677\n",
            "one                                                Score: 174.16019276608517\n",
            "do                                                 Score: 160.57524593088053\n",
            "time                                               Score: 160.1100301847739\n",
            "gay                                                Score: 159.5820454915121\n",
            "peopl                                              Score: 151.04499856119287\n"
          ]
        }
      ],
      "source": [
        "#top 25 words\n",
        "display_scores(tfIdfVectorizer, tfIdf)"
      ]
    },
    {
      "cell_type": "code",
      "execution_count": null,
      "metadata": {
        "colab": {
          "base_uri": "https://localhost:8080/"
        },
        "id": "nQZngbDHd4x_",
        "outputId": "833c4f8b-ab5e-405d-a192-9885ed7c17d2"
      },
      "outputs": [
        {
          "output_type": "stream",
          "name": "stdout",
          "text": [
            "[0. 0. 0. ... 0. 0. 0.] 1\n",
            "None\n",
            "(16000, 14783)\n",
            "(16000,)\n",
            "(4001, 14783)\n",
            "(4001,)\n"
          ]
        }
      ],
      "source": [
        "X=tfIdf.toarray()\n",
        "y = np.array(df.annotation.tolist())\n",
        "print(print(X[0], y[0]))\n",
        "#Spltting\n",
        "X_train, X_test, y_train, y_test = train_test_split(X, y, test_size=0.2, random_state=0)\n",
        "\n",
        "print(X_train.shape)\n",
        "print(y_train.shape)\n",
        "print(X_test.shape) \n",
        "print(y_test.shape)"
      ]
    },
    {
      "cell_type": "code",
      "execution_count": null,
      "metadata": {
        "colab": {
          "base_uri": "https://localhost:8080/"
        },
        "id": "-SjTzm2fjKEE",
        "outputId": "b020ae80-d544-4407-89fa-631abdebc142"
      },
      "outputs": [
        {
          "output_type": "stream",
          "name": "stdout",
          "text": [
            "[[   0    1]\n",
            " [9750 6250]]\n"
          ]
        }
      ],
      "source": [
        "#Training data biasness\n",
        "unique_elements, counts_elements = np.unique(y_train, return_counts=True)\n",
        "print(np.asarray((unique_elements, counts_elements)))"
      ]
    },
    {
      "cell_type": "code",
      "execution_count": null,
      "metadata": {
        "colab": {
          "base_uri": "https://localhost:8080/"
        },
        "id": "dkt2VjU8kXLl",
        "outputId": "68881295-dc50-4df4-9237-f993b31cfc0d"
      },
      "outputs": [
        {
          "output_type": "stream",
          "name": "stdout",
          "text": [
            "[[   0    1]\n",
            " [2429 1572]]\n"
          ]
        }
      ],
      "source": [
        "#Test Data\n",
        "unique_elements, counts_elements = np.unique(y_test, return_counts=True)\n",
        "print(np.asarray((unique_elements, counts_elements)))"
      ]
    },
    {
      "cell_type": "code",
      "execution_count": null,
      "metadata": {
        "id": "vEkoOucMrtcT"
      },
      "outputs": [],
      "source": [
        "#Random oversampling on training data\n",
        "from imblearn.over_sampling import RandomOverSampler\n",
        "\n",
        "oversample = RandomOverSampler(sampling_strategy='not majority')\n",
        "X_over, y_over = oversample.fit_resample(X_train, y_train)"
      ]
    },
    {
      "cell_type": "code",
      "execution_count": null,
      "metadata": {
        "id": "6uPLIoFAsQFf",
        "colab": {
          "base_uri": "https://localhost:8080/"
        },
        "outputId": "058d0400-983a-4d10-8cd1-8c00cff4d8e3"
      },
      "outputs": [
        {
          "output_type": "stream",
          "name": "stdout",
          "text": [
            "(19500, 14783)\n",
            "(19500,)\n"
          ]
        }
      ],
      "source": [
        "print(X_over.shape)\n",
        "print(y_over.shape)"
      ]
    },
    {
      "cell_type": "code",
      "execution_count": null,
      "metadata": {
        "id": "QbrJ3WGiyPp3",
        "colab": {
          "base_uri": "https://localhost:8080/"
        },
        "outputId": "216129fd-74e2-4638-af2e-b28aa21783f3"
      },
      "outputs": [
        {
          "output_type": "stream",
          "name": "stdout",
          "text": [
            "[[   0    1]\n",
            " [9750 9750]]\n"
          ]
        }
      ],
      "source": [
        "unique_elements, counts_elements = np.unique(y_over, return_counts=True)\n",
        "print(np.asarray((unique_elements, counts_elements)))"
      ]
    },
    {
      "cell_type": "markdown",
      "metadata": {
        "id": "iuMzc-_HHn16"
      },
      "source": [
        "# Training and Calculating Scores"
      ]
    },
    {
      "cell_type": "code",
      "execution_count": null,
      "metadata": {
        "id": "cEthYYxSJNiq"
      },
      "outputs": [],
      "source": [
        "def getStatsFromModel(model):\n",
        "  print(classification_report(y_test, y_pred))\n",
        "  disp = PrecisionRecallDisplay.from_predictions(y_pred, y_test)\n",
        "  disp.ax_.set_title('2-class Precision-Recall curve: '\n",
        "                   'AP={0:0.2f}')\n",
        "  \n",
        "  logit_roc_auc = roc_auc_score(y_test, model.predict(X_test))\n",
        "  fpr, tpr, thresholds = roc_curve(y_test, model.predict_proba(X_test)[:,1])\n",
        "  plt.figure()\n",
        "  plt.plot(fpr, tpr, label='(area = %0.2f)' % logit_roc_auc)\n",
        "  plt.plot([0, 1], [0, 1],'r--')\n",
        "  plt.xlim([0.0, 1.0])\n",
        "  plt.ylim([0.0, 1.05])\n",
        "  plt.xlabel('False Positive Rate')\n",
        "  plt.ylabel('True Positive Rate')\n",
        "  plt.title('Receiver operating characteristic')\n",
        "  plt.legend(loc=\"lower right\")\n",
        "  plt.savefig('Log_ROC')\n",
        "  plt.show()"
      ]
    },
    {
      "cell_type": "markdown",
      "metadata": {
        "id": "yO0CzuCxHxVb"
      },
      "source": [
        "## Normal Methods"
      ]
    },
    {
      "cell_type": "markdown",
      "metadata": {
        "id": "UcznCIZmH1bp"
      },
      "source": [
        "## Ensemble Methods"
      ]
    },
    {
      "cell_type": "code",
      "execution_count": null,
      "metadata": {
        "id": "8j2_O4GXe9LY",
        "colab": {
          "base_uri": "https://localhost:8080/",
          "height": 1000
        },
        "outputId": "a8c71cfa-ed94-4699-e182-0b8ed81d7814"
      },
      "outputs": [
        {
          "output_type": "stream",
          "name": "stderr",
          "text": [
            "[Parallel(n_jobs=1)]: Using backend SequentialBackend with 1 concurrent workers.\n",
            "[Parallel(n_jobs=1)]: Done 100 out of 100 | elapsed:  4.5min finished\n",
            "[Parallel(n_jobs=1)]: Using backend SequentialBackend with 1 concurrent workers.\n",
            "[Parallel(n_jobs=1)]: Done 100 out of 100 | elapsed:    1.1s finished\n",
            "[Parallel(n_jobs=1)]: Using backend SequentialBackend with 1 concurrent workers.\n",
            "[Parallel(n_jobs=1)]: Done 100 out of 100 | elapsed:    1.1s finished\n",
            "[Parallel(n_jobs=1)]: Using backend SequentialBackend with 1 concurrent workers.\n"
          ]
        },
        {
          "output_type": "stream",
          "name": "stdout",
          "text": [
            "Score: 0.9167708072981755\n",
            "Confusion Matrix: \n",
            " [[2171  258]\n",
            " [  75 1497]]\n",
            "              precision    recall  f1-score   support\n",
            "\n",
            "           0       0.97      0.89      0.93      2429\n",
            "           1       0.85      0.95      0.90      1572\n",
            "\n",
            "    accuracy                           0.92      4001\n",
            "   macro avg       0.91      0.92      0.91      4001\n",
            "weighted avg       0.92      0.92      0.92      4001\n",
            "\n"
          ]
        },
        {
          "output_type": "stream",
          "name": "stderr",
          "text": [
            "[Parallel(n_jobs=1)]: Done 100 out of 100 | elapsed:    1.1s finished\n",
            "[Parallel(n_jobs=1)]: Using backend SequentialBackend with 1 concurrent workers.\n",
            "[Parallel(n_jobs=1)]: Done 100 out of 100 | elapsed:    1.1s finished\n"
          ]
        },
        {
          "output_type": "display_data",
          "data": {
            "text/plain": [
              "<Figure size 640x480 with 1 Axes>"
            ],
            "image/png": "[encoded data removed]"
          },
          "metadata": {}
        },
        {
          "output_type": "display_data",
          "data": {
            "text/plain": [
              "<Figure size 640x480 with 1 Axes>"
            ],
            "image/png": "[encoded data removed]"
          },
          "metadata": {}
        },
        {
          "output_type": "stream",
          "name": "stdout",
          "text": [
            "[[0. 0. 0. ... 0. 0. 0.]\n",
            " [0. 0. 0. ... 0. 0. 0.]\n",
            " [0. 0. 0. ... 0. 0. 0.]\n",
            " ...\n",
            " [0. 0. 0. ... 0. 0. 0.]\n",
            " [0. 0. 0. ... 0. 0. 0.]\n",
            " [0. 0. 0. ... 0. 0. 0.]]\n"
          ]
        }
      ],
      "source": [
        "rfc = RandomForestClassifier(verbose=True) #uses randomized decision trees\n",
        "rfcmodel = rfc.fit(X_over, y_over)\n",
        "y_pred = rfc.predict(X_test)\n",
        "print (\"Score:\", rfcmodel.score(X_test, y_test))\n",
        "print(\"Confusion Matrix: \\n\", confusion_matrix(y_test, y_pred))\n",
        "getStatsFromModel(rfc)\n",
        "print(X_test)"
      ]
    },
    {
      "cell_type": "code",
      "execution_count": null,
      "metadata": {
        "id": "-PSEv3EYKcBe"
      },
      "outputs": [],
      "source": [
        "import pickle\n",
        "\n",
        "with open('model.pickle', 'wb') as fd:\n",
        "\n",
        "  pickle.dump(rfcmodel, fd)"
      ]
    },
    {
      "cell_type": "code",
      "execution_count": null,
      "metadata": {
        "id": "a3rFS6hpi8Gk",
        "colab": {
          "base_uri": "https://localhost:8080/"
        },
        "outputId": "c9dea40a-4c15-40d1-e0b8-b40d50b61657"
      },
      "outputs": [
        {
          "output_type": "stream",
          "name": "stdout",
          "text": [
            "[0]\n"
          ]
        },
        {
          "output_type": "stream",
          "name": "stderr",
          "text": [
            "[Parallel(n_jobs=1)]: Using backend SequentialBackend with 1 concurrent workers.\n",
            "[Parallel(n_jobs=1)]: Done 100 out of 100 | elapsed:    0.0s finished\n"
          ]
        }
      ],
      "source": [
        "# Assume you have a new data point stored in a variable `new_data`\n",
        "new_data = \"This is Cyber Bullying Project\"\n",
        "\n",
        "# Preprocess the input data to match the format used for training\n",
        "new_data = ' '.join([word for word in new_data.split() if word not in (stop)])\n",
        "new_data = regex.sub('',new_data)\n",
        "nltk_tokens = nltk.word_tokenize(new_data)\n",
        "final = ''\n",
        "for w in nltk_tokens:\n",
        "    final = final + ' ' + porter_stemmer.stem(w)\n",
        "new_data = ''.join([i for i in final if not i.isdigit()])\n",
        "\n",
        "# Convert the preprocessed input data to a format compatible with the trained model\n",
        "new_data_vectorized = tfIdfVectorizer.transform([new_data])\n",
        "\n",
        "# Make a prediction using the trained model\n",
        "prediction = rfcmodel.predict(new_data_vectorized.toarray())\n",
        "print(prediction)"
      ]
    },
    {
      "cell_type": "code",
      "source": [
        "with open(\"tokenizer.pickle\", 'wb') as fd:\n",
        "\n",
        "  pickle.dump(tfIdfVectorizer, fd)"
      ],
      "metadata": {
        "id": "mTupkB7RYxch"
      },
      "execution_count": null,
      "outputs": []
    }
  ],
  "metadata": {
    "colab": {
      "provenance": []
    },
    "gpuClass": "standard",
    "kernelspec": {
      "display_name": "Python 3",
      "name": "python3"
    }
  },
  "nbformat": 4,
  "nbformat_minor": 0
}